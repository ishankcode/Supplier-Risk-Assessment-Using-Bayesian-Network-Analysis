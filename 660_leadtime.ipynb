{
 "cells": [
  {
   "cell_type": "code",
   "execution_count": 1,
   "id": "658d331a",
   "metadata": {},
   "outputs": [],
   "source": [
    "import numpy as np\n",
    "import scipy.stats as ss\n",
    "import matplotlib.pyplot as plt\n",
    "import pandas as pd\n",
    "import random\n",
    "import math\n",
    "import seaborn as sns\n",
    "import datetime\n"
   ]
  },
  {
   "cell_type": "code",
   "execution_count": 2,
   "id": "b95a4a02",
   "metadata": {},
   "outputs": [],
   "source": [
    "from datetime import datetime"
   ]
  },
  {
   "cell_type": "code",
   "execution_count": 3,
   "id": "a37c20d7",
   "metadata": {},
   "outputs": [],
   "source": [
    "# lEAD TIME DATA FILE\n",
    "leadtime_df = pd.read_excel(\"data_weekly.xlsx\")"
   ]
  },
  {
   "cell_type": "code",
   "execution_count": 4,
   "id": "940dfc99",
   "metadata": {},
   "outputs": [
    {
     "data": {
      "text/html": [
       "<div>\n",
       "<style scoped>\n",
       "    .dataframe tbody tr th:only-of-type {\n",
       "        vertical-align: middle;\n",
       "    }\n",
       "\n",
       "    .dataframe tbody tr th {\n",
       "        vertical-align: top;\n",
       "    }\n",
       "\n",
       "    .dataframe thead th {\n",
       "        text-align: right;\n",
       "    }\n",
       "</style>\n",
       "<table border=\"1\" class=\"dataframe\">\n",
       "  <thead>\n",
       "    <tr style=\"text-align: right;\">\n",
       "      <th></th>\n",
       "      <th>Tour</th>\n",
       "      <th>Store</th>\n",
       "      <th>ShipDate</th>\n",
       "      <th>Total</th>\n",
       "    </tr>\n",
       "  </thead>\n",
       "  <tbody>\n",
       "    <tr>\n",
       "      <th>0</th>\n",
       "      <td>86.0</td>\n",
       "      <td>103</td>\n",
       "      <td>02-01-1997 - 08-01-1997</td>\n",
       "      <td>490.00</td>\n",
       "    </tr>\n",
       "    <tr>\n",
       "      <th>1</th>\n",
       "      <td>86.0</td>\n",
       "      <td>103</td>\n",
       "      <td>09-01-1997 - 15-01-1997</td>\n",
       "      <td>1869.28</td>\n",
       "    </tr>\n",
       "    <tr>\n",
       "      <th>2</th>\n",
       "      <td>86.0</td>\n",
       "      <td>103</td>\n",
       "      <td>23-01-1997 - 29-01-1997</td>\n",
       "      <td>2887.68</td>\n",
       "    </tr>\n",
       "    <tr>\n",
       "      <th>3</th>\n",
       "      <td>86.0</td>\n",
       "      <td>103</td>\n",
       "      <td>30-01-1997 - 05-02-1997</td>\n",
       "      <td>373.04</td>\n",
       "    </tr>\n",
       "    <tr>\n",
       "      <th>4</th>\n",
       "      <td>86.0</td>\n",
       "      <td>103</td>\n",
       "      <td>06-02-1997 - 12-02-1997</td>\n",
       "      <td>1022.90</td>\n",
       "    </tr>\n",
       "    <tr>\n",
       "      <th>...</th>\n",
       "      <td>...</td>\n",
       "      <td>...</td>\n",
       "      <td>...</td>\n",
       "      <td>...</td>\n",
       "    </tr>\n",
       "    <tr>\n",
       "      <th>2036</th>\n",
       "      <td>NaN</td>\n",
       "      <td>588</td>\n",
       "      <td>17-07-1997 - 23-07-1997</td>\n",
       "      <td>850.00</td>\n",
       "    </tr>\n",
       "    <tr>\n",
       "      <th>2037</th>\n",
       "      <td>NaN</td>\n",
       "      <td>588</td>\n",
       "      <td>24-07-1997 - 30-07-1997</td>\n",
       "      <td>10127.40</td>\n",
       "    </tr>\n",
       "    <tr>\n",
       "      <th>2038</th>\n",
       "      <td>NaN</td>\n",
       "      <td>588</td>\n",
       "      <td>31-07-1997 - 06-08-1997</td>\n",
       "      <td>5564.00</td>\n",
       "    </tr>\n",
       "    <tr>\n",
       "      <th>2039</th>\n",
       "      <td>NaN</td>\n",
       "      <td>588</td>\n",
       "      <td>07-08-1997 - 13-08-1997</td>\n",
       "      <td>1044.35</td>\n",
       "    </tr>\n",
       "    <tr>\n",
       "      <th>2040</th>\n",
       "      <td>NaN</td>\n",
       "      <td>588</td>\n",
       "      <td>14-08-1997 - 15-08-1997</td>\n",
       "      <td>7552.40</td>\n",
       "    </tr>\n",
       "  </tbody>\n",
       "</table>\n",
       "<p>2041 rows × 4 columns</p>\n",
       "</div>"
      ],
      "text/plain": [
       "      Tour  Store                 ShipDate     Total\n",
       "0     86.0    103  02-01-1997 - 08-01-1997    490.00\n",
       "1     86.0    103  09-01-1997 - 15-01-1997   1869.28\n",
       "2     86.0    103  23-01-1997 - 29-01-1997   2887.68\n",
       "3     86.0    103  30-01-1997 - 05-02-1997    373.04\n",
       "4     86.0    103  06-02-1997 - 12-02-1997   1022.90\n",
       "...    ...    ...                      ...       ...\n",
       "2036   NaN    588  17-07-1997 - 23-07-1997    850.00\n",
       "2037   NaN    588  24-07-1997 - 30-07-1997  10127.40\n",
       "2038   NaN    588  31-07-1997 - 06-08-1997   5564.00\n",
       "2039   NaN    588  07-08-1997 - 13-08-1997   1044.35\n",
       "2040   NaN    588  14-08-1997 - 15-08-1997   7552.40\n",
       "\n",
       "[2041 rows x 4 columns]"
      ]
     },
     "execution_count": 4,
     "metadata": {},
     "output_type": "execute_result"
    }
   ],
   "source": [
    "leadtime_df"
   ]
  },
  {
   "cell_type": "code",
   "execution_count": 5,
   "id": "92bcf1f2",
   "metadata": {},
   "outputs": [],
   "source": [
    "leadtime_df[\"ship_start\"] = \"\"\n",
    "leadtime_df[\"ship_end\"] = \"\""
   ]
  },
  {
   "cell_type": "code",
   "execution_count": 6,
   "id": "dd44de2c",
   "metadata": {},
   "outputs": [
    {
     "name": "stderr",
     "output_type": "stream",
     "text": [
      "<ipython-input-6-1327ee7214b8>:2: SettingWithCopyWarning: \n",
      "A value is trying to be set on a copy of a slice from a DataFrame\n",
      "\n",
      "See the caveats in the documentation: https://pandas.pydata.org/pandas-docs/stable/user_guide/indexing.html#returning-a-view-versus-a-copy\n",
      "  leadtime_df[\"ship_start\"][i]=leadtime_df[\"ShipDate\"][i][0:10]\n",
      "<ipython-input-6-1327ee7214b8>:3: SettingWithCopyWarning: \n",
      "A value is trying to be set on a copy of a slice from a DataFrame\n",
      "\n",
      "See the caveats in the documentation: https://pandas.pydata.org/pandas-docs/stable/user_guide/indexing.html#returning-a-view-versus-a-copy\n",
      "  leadtime_df[\"ship_end\"][i] = leadtime_df[\"ShipDate\"][i][12:]\n"
     ]
    }
   ],
   "source": [
    "for i,v in leadtime_df.iterrows():\n",
    "    leadtime_df[\"ship_start\"][i]=leadtime_df[\"ShipDate\"][i][0:10]\n",
    "    leadtime_df[\"ship_end\"][i] = leadtime_df[\"ShipDate\"][i][12:]"
   ]
  },
  {
   "cell_type": "code",
   "execution_count": 7,
   "id": "99bec892",
   "metadata": {},
   "outputs": [],
   "source": [
    "leadtime_df[\"leadtime\"] = \"\""
   ]
  },
  {
   "cell_type": "code",
   "execution_count": 8,
   "id": "8c563120",
   "metadata": {},
   "outputs": [
    {
     "name": "stderr",
     "output_type": "stream",
     "text": [
      "<ipython-input-8-0b30d70579c3>:2: SettingWithCopyWarning: \n",
      "A value is trying to be set on a copy of a slice from a DataFrame\n",
      "\n",
      "See the caveats in the documentation: https://pandas.pydata.org/pandas-docs/stable/user_guide/indexing.html#returning-a-view-versus-a-copy\n",
      "  leadtime_df[\"leadtime\"][i]= (int(np.random.normal(16,3,1)[0]))\n"
     ]
    }
   ],
   "source": [
    "for i, v in leadtime_df.iterrows():\n",
    "    leadtime_df[\"leadtime\"][i]= (int(np.random.normal(16,3,1)[0]))"
   ]
  },
  {
   "cell_type": "code",
   "execution_count": 9,
   "id": "4df20a28",
   "metadata": {},
   "outputs": [
    {
     "data": {
      "text/html": [
       "<div>\n",
       "<style scoped>\n",
       "    .dataframe tbody tr th:only-of-type {\n",
       "        vertical-align: middle;\n",
       "    }\n",
       "\n",
       "    .dataframe tbody tr th {\n",
       "        vertical-align: top;\n",
       "    }\n",
       "\n",
       "    .dataframe thead th {\n",
       "        text-align: right;\n",
       "    }\n",
       "</style>\n",
       "<table border=\"1\" class=\"dataframe\">\n",
       "  <thead>\n",
       "    <tr style=\"text-align: right;\">\n",
       "      <th></th>\n",
       "      <th>Tour</th>\n",
       "      <th>Store</th>\n",
       "      <th>ShipDate</th>\n",
       "      <th>Total</th>\n",
       "      <th>ship_start</th>\n",
       "      <th>ship_end</th>\n",
       "      <th>leadtime</th>\n",
       "    </tr>\n",
       "  </thead>\n",
       "  <tbody>\n",
       "    <tr>\n",
       "      <th>0</th>\n",
       "      <td>86.0</td>\n",
       "      <td>103</td>\n",
       "      <td>02-01-1997 - 08-01-1997</td>\n",
       "      <td>490.00</td>\n",
       "      <td>02-01-1997</td>\n",
       "      <td>08-01-1997</td>\n",
       "      <td>17</td>\n",
       "    </tr>\n",
       "    <tr>\n",
       "      <th>1</th>\n",
       "      <td>86.0</td>\n",
       "      <td>103</td>\n",
       "      <td>09-01-1997 - 15-01-1997</td>\n",
       "      <td>1869.28</td>\n",
       "      <td>09-01-1997</td>\n",
       "      <td>15-01-1997</td>\n",
       "      <td>16</td>\n",
       "    </tr>\n",
       "    <tr>\n",
       "      <th>2</th>\n",
       "      <td>86.0</td>\n",
       "      <td>103</td>\n",
       "      <td>23-01-1997 - 29-01-1997</td>\n",
       "      <td>2887.68</td>\n",
       "      <td>23-01-1997</td>\n",
       "      <td>29-01-1997</td>\n",
       "      <td>13</td>\n",
       "    </tr>\n",
       "    <tr>\n",
       "      <th>3</th>\n",
       "      <td>86.0</td>\n",
       "      <td>103</td>\n",
       "      <td>30-01-1997 - 05-02-1997</td>\n",
       "      <td>373.04</td>\n",
       "      <td>30-01-1997</td>\n",
       "      <td>05-02-1997</td>\n",
       "      <td>13</td>\n",
       "    </tr>\n",
       "    <tr>\n",
       "      <th>4</th>\n",
       "      <td>86.0</td>\n",
       "      <td>103</td>\n",
       "      <td>06-02-1997 - 12-02-1997</td>\n",
       "      <td>1022.90</td>\n",
       "      <td>06-02-1997</td>\n",
       "      <td>12-02-1997</td>\n",
       "      <td>18</td>\n",
       "    </tr>\n",
       "    <tr>\n",
       "      <th>...</th>\n",
       "      <td>...</td>\n",
       "      <td>...</td>\n",
       "      <td>...</td>\n",
       "      <td>...</td>\n",
       "      <td>...</td>\n",
       "      <td>...</td>\n",
       "      <td>...</td>\n",
       "    </tr>\n",
       "    <tr>\n",
       "      <th>2036</th>\n",
       "      <td>NaN</td>\n",
       "      <td>588</td>\n",
       "      <td>17-07-1997 - 23-07-1997</td>\n",
       "      <td>850.00</td>\n",
       "      <td>17-07-1997</td>\n",
       "      <td>23-07-1997</td>\n",
       "      <td>13</td>\n",
       "    </tr>\n",
       "    <tr>\n",
       "      <th>2037</th>\n",
       "      <td>NaN</td>\n",
       "      <td>588</td>\n",
       "      <td>24-07-1997 - 30-07-1997</td>\n",
       "      <td>10127.40</td>\n",
       "      <td>24-07-1997</td>\n",
       "      <td>30-07-1997</td>\n",
       "      <td>17</td>\n",
       "    </tr>\n",
       "    <tr>\n",
       "      <th>2038</th>\n",
       "      <td>NaN</td>\n",
       "      <td>588</td>\n",
       "      <td>31-07-1997 - 06-08-1997</td>\n",
       "      <td>5564.00</td>\n",
       "      <td>31-07-1997</td>\n",
       "      <td>06-08-1997</td>\n",
       "      <td>16</td>\n",
       "    </tr>\n",
       "    <tr>\n",
       "      <th>2039</th>\n",
       "      <td>NaN</td>\n",
       "      <td>588</td>\n",
       "      <td>07-08-1997 - 13-08-1997</td>\n",
       "      <td>1044.35</td>\n",
       "      <td>07-08-1997</td>\n",
       "      <td>13-08-1997</td>\n",
       "      <td>12</td>\n",
       "    </tr>\n",
       "    <tr>\n",
       "      <th>2040</th>\n",
       "      <td>NaN</td>\n",
       "      <td>588</td>\n",
       "      <td>14-08-1997 - 15-08-1997</td>\n",
       "      <td>7552.40</td>\n",
       "      <td>14-08-1997</td>\n",
       "      <td>15-08-1997</td>\n",
       "      <td>13</td>\n",
       "    </tr>\n",
       "  </tbody>\n",
       "</table>\n",
       "<p>2041 rows × 7 columns</p>\n",
       "</div>"
      ],
      "text/plain": [
       "      Tour  Store                 ShipDate     Total  ship_start     ship_end  \\\n",
       "0     86.0    103  02-01-1997 - 08-01-1997    490.00  02-01-1997   08-01-1997   \n",
       "1     86.0    103  09-01-1997 - 15-01-1997   1869.28  09-01-1997   15-01-1997   \n",
       "2     86.0    103  23-01-1997 - 29-01-1997   2887.68  23-01-1997   29-01-1997   \n",
       "3     86.0    103  30-01-1997 - 05-02-1997    373.04  30-01-1997   05-02-1997   \n",
       "4     86.0    103  06-02-1997 - 12-02-1997   1022.90  06-02-1997   12-02-1997   \n",
       "...    ...    ...                      ...       ...         ...          ...   \n",
       "2036   NaN    588  17-07-1997 - 23-07-1997    850.00  17-07-1997   23-07-1997   \n",
       "2037   NaN    588  24-07-1997 - 30-07-1997  10127.40  24-07-1997   30-07-1997   \n",
       "2038   NaN    588  31-07-1997 - 06-08-1997   5564.00  31-07-1997   06-08-1997   \n",
       "2039   NaN    588  07-08-1997 - 13-08-1997   1044.35  07-08-1997   13-08-1997   \n",
       "2040   NaN    588  14-08-1997 - 15-08-1997   7552.40  14-08-1997   15-08-1997   \n",
       "\n",
       "     leadtime  \n",
       "0          17  \n",
       "1          16  \n",
       "2          13  \n",
       "3          13  \n",
       "4          18  \n",
       "...       ...  \n",
       "2036       13  \n",
       "2037       17  \n",
       "2038       16  \n",
       "2039       12  \n",
       "2040       13  \n",
       "\n",
       "[2041 rows x 7 columns]"
      ]
     },
     "execution_count": 9,
     "metadata": {},
     "output_type": "execute_result"
    }
   ],
   "source": [
    "leadtime_df"
   ]
  },
  {
   "cell_type": "code",
   "execution_count": 10,
   "id": "5ca8f878",
   "metadata": {},
   "outputs": [
    {
     "data": {
      "text/plain": [
       "(array([  5.,  19.,  77., 237., 430., 781., 306., 131.,  44.,  11.]),\n",
       " array([ 4. ,  6.2,  8.4, 10.6, 12.8, 15. , 17.2, 19.4, 21.6, 23.8, 26. ]),\n",
       " <BarContainer object of 10 artists>)"
      ]
     },
     "execution_count": 10,
     "metadata": {},
     "output_type": "execute_result"
    },
    {
     "data": {
      "image/png": "[encoded data removed]",
      "text/plain": [
       "<Figure size 432x288 with 1 Axes>"
      ]
     },
     "metadata": {
      "needs_background": "light"
     },
     "output_type": "display_data"
    }
   ],
   "source": [
    "plt.hist(leadtime_df[\"leadtime\"])"
   ]
  },
  {
   "cell_type": "code",
   "execution_count": 11,
   "id": "5e25edaf",
   "metadata": {},
   "outputs": [],
   "source": [
    "leadtime_df[\"shipend2\"] = \"\""
   ]
  },
  {
   "cell_type": "code",
   "execution_count": null,
   "id": "6b241f60",
   "metadata": {},
   "outputs": [],
   "source": [
    "leadtime_df"
   ]
  },
  {
   "cell_type": "code",
   "execution_count": 15,
   "id": "416b02a1",
   "metadata": {},
   "outputs": [
    {
     "data": {
      "text/plain": [
       "15.439980401763842"
      ]
     },
     "execution_count": 15,
     "metadata": {},
     "output_type": "execute_result"
    }
   ],
   "source": [
    "a=np.mean(leadtime_df[\"leadtime\"])\n",
    "a"
   ]
  },
  {
   "cell_type": "code",
   "execution_count": 20,
   "id": "7be8a16d",
   "metadata": {},
   "outputs": [],
   "source": [
    "from scipy.stats import poisson\n",
    "mu=a"
   ]
  },
  {
   "cell_type": "code",
   "execution_count": 21,
   "id": "ed9c0411",
   "metadata": {},
   "outputs": [],
   "source": [
    "mean, var, skew, kurt = poisson.stats(mu,moments='mvsk')"
   ]
  },
  {
   "cell_type": "code",
   "execution_count": 23,
   "id": "ed0426ac",
   "metadata": {},
   "outputs": [],
   "source": [
    "x = np.arange(poisson.ppf(0.01, mu),\n",
    "              poisson.ppf(0.99, mu))\n",
    "#ax.plot(x, poisson.pmf(x, mu), 'bo', ms=8, label='poisson pmf')\n",
    "#ax.vlines(x, 0, poisson.pmf(x, mu), colors='b', lw=5, alpha=0.5)"
   ]
  },
  {
   "cell_type": "code",
   "execution_count": 35,
   "id": "121471fc",
   "metadata": {},
   "outputs": [],
   "source": [
    "poisson_act= poisson.rvs(mu, size=len(leadtime_df[\"leadtime\"]))"
   ]
  },
  {
   "cell_type": "code",
   "execution_count": 36,
   "id": "03a21d68",
   "metadata": {},
   "outputs": [],
   "source": [
    "from scipy.stats import t\n",
    "rv = t(df=100-2)"
   ]
  },
  {
   "cell_type": "code",
   "execution_count": 37,
   "id": "9eb652a4",
   "metadata": {},
   "outputs": [],
   "source": [
    "from scipy.stats import ttest_ind\n",
    "t_stat, p_value = ttest_ind(poisson_act,leadtime_df[\"leadtime\"])"
   ]
  },
  {
   "cell_type": "code",
   "execution_count": null,
   "id": "917adb69",
   "metadata": {},
   "outputs": [],
   "source": [
    "from scipy.stats import poisson\n",
    "mean, var, skew, kurt = poisson.stats(mu,moments='mvsk')\n",
    "x = np.arange(poisson.ppf(0.01, mu),poisson.ppf(0.99, mu))\n",
    "poisson_act= poisson.rvs(mu, size=len(leadtime_df[\"leadtime\"]))\n",
    "from scipy.stats import ttest_ind\n",
    "t_stat, p_value = ttest_ind(poisson_act,leadtime_df[\"leadtime\"])"
   ]
  },
  {
   "cell_type": "code",
   "execution_count": 38,
   "id": "afa2f339",
   "metadata": {},
   "outputs": [
    {
     "data": {
      "text/plain": [
       "0.7396074821534913"
      ]
     },
     "execution_count": 38,
     "metadata": {},
     "output_type": "execute_result"
    }
   ],
   "source": [
    "p_value"
   ]
  },
  {
   "cell_type": "markdown",
   "id": "07dc9a27",
   "metadata": {},
   "source": [
    "### Parameter estimation for suitable distributions"
   ]
  },
  {
   "cell_type": "code",
   "execution_count": null,
   "id": "cbb54470",
   "metadata": {},
   "outputs": [],
   "source": []
  },
  {
   "cell_type": "code",
   "execution_count": 22,
   "id": "4350bcf2",
   "metadata": {},
   "outputs": [
    {
     "name": "stdout",
     "output_type": "stream",
     "text": [
      "The maximum Likelyhood estimators for Normal Distribution are: mean is 15.618 and std is 3.021\n",
      "The maximum Likelyhood estimators for Gamma Distribution are  {0.073, -109.781, 1719.415}\n",
      "The maximum Likelyhood estimators for Triangular Distribution are  {0.524, 4.982, 21.034}\n",
      "The maximum Likelyhood estimators for Uniform Distribution are: mean is 5.0 and std is 10.618\n"
     ]
    }
   ],
   "source": [
    "leadtime = np.array(leadtime_df.leadtime, dtype=float)\n",
    "# Normal Distribution\n",
    "u,s=ss.norm.fit(leadtime)\n",
    "print(f\"The maximum Likelyhood estimators for Normal Distribution are: mean is \\\n",
    "{round(u,3)} and std is {round(s,3)}\")\n",
    "\n",
    "# Gamma Distribution\n",
    "x,y,z=ss.gamma.fit(leadtime)\n",
    "print(\"The maximum Likelyhood estimators for Gamma Distribution are \",\\\n",
    "      {round(x,3),round(y,3),round(z,3)})\n",
    "\n",
    "# Triangular Distribution\n",
    "a,b,c=ss.triang.fit(leadtime)\n",
    "print(\"The maximum Likelyhood estimators for Triangular Distribution are \",\\\n",
    "      {round(a,3),round(b,3),round(c,3)})\n",
    "\n",
    "# Exponrntial Distribution\n",
    "m,n =ss.expon.fit(leadtime)\n",
    "print(f\"The maximum Likelyhood estimators for Uniform Distribution are: mean is \\\n",
    "{round(m,3)} and std is {round(n,3)}\")"
   ]
  },
  {
   "cell_type": "code",
   "execution_count": 23,
   "id": "c084e313",
   "metadata": {},
   "outputs": [
    {
     "data": {
      "image/png": "[encoded data removed]",
      "text/plain": [
       "<Figure size 720x1440 with 4 Axes>"
      ]
     },
     "metadata": {
      "needs_background": "light"
     },
     "output_type": "display_data"
    }
   ],
   "source": [
    "# Plotting Hypothesied Probable distributions over demand data\n",
    "fig, (ax1,ax2,ax3,ax4) = plt.subplots(4,1, figsize = (10,20))\n",
    "\n",
    "ax1.hist(leadtime,density=True,bins=10)\n",
    "x_seq = np.arange(0,30,1)\n",
    "y_seq = ss.norm.pdf(x_seq,u,s)\n",
    "ax1.plot(x_seq, y_seq)\n",
    "ax1.title.set_text('Normal Dist')\n",
    "\n",
    "ax2.hist(leadtime,density=True,bins=10)\n",
    "x1_seq = np.arange(0,30,1)\n",
    "y1_seq = ss.gamma.pdf(x1_seq,x,y,z)\n",
    "ax2.plot(x1_seq, y1_seq)\n",
    "ax2.title.set_text('Gamma Dist')\n",
    "\n",
    "ax3.hist(leadtime,density=True,bins=10)\n",
    "x2_seq = np.arange(0,30,1)\n",
    "y2_seq = ss.triang.pdf(x2_seq,a,b,c)\n",
    "ax3.plot(x2_seq, y2_seq)\n",
    "ax3.title.set_text('Triangular Dist')\n",
    "\n",
    "ax4.hist(leadtime,density=True,bins=10)\n",
    "x3_seq = np.arange(0,30,1)\n",
    "y3_seq = ss.expon.pdf(x1_seq,m,n)\n",
    "ax4.plot(x3_seq, y3_seq)\n",
    "ax4.title.set_text('Exponential Dist')"
   ]
  },
  {
   "cell_type": "code",
   "execution_count": 24,
   "id": "54f05e45",
   "metadata": {},
   "outputs": [
    {
     "name": "stdout",
     "output_type": "stream",
     "text": [
      "The p-value for the K-S test for normal distribution is 0.0.\n"
     ]
    }
   ],
   "source": [
    "u,s= ss.norm.fit(leadtime)\n",
    "normal_estimate = ss.norm(u,s)\n",
    "statistics, pvalue = ss.kstest(rvs = leadtime, cdf = normal_estimate.cdf)\n",
    "print(f\"The p-value for the K-S test for normal distribution is {round(pvalue, 3)}.\")"
   ]
  },
  {
   "cell_type": "code",
   "execution_count": 27,
   "id": "6cf18f07",
   "metadata": {},
   "outputs": [
    {
     "name": "stdout",
     "output_type": "stream",
     "text": [
      "The statistics for the K-S test for normal distribution is 0.075.\n"
     ]
    }
   ],
   "source": [
    "print(f\"The statistics for the K-S test for normal distribution is {round(statistics, 3)}.\")"
   ]
  },
  {
   "cell_type": "code",
   "execution_count": 26,
   "id": "360fff5d",
   "metadata": {},
   "outputs": [
    {
     "name": "stdout",
     "output_type": "stream",
     "text": [
      "The p-value for the K-S test was for gamma distribution is 0.0.\n"
     ]
    }
   ],
   "source": [
    "u,s,m= ss.gamma.fit(leadtime)\n",
    "gamma_estimate = ss.gamma(u,s,m)\n",
    "statistics, pvalue = ss.kstest(rvs = leadtime, cdf = gamma_estimate.cdf)\n",
    "print(f\"The p-value for the K-S test was for gamma distribution is {round(pvalue, 4)}.\")"
   ]
  },
  {
   "cell_type": "markdown",
   "id": "10f571ca",
   "metadata": {},
   "source": [
    "### Poisson"
   ]
  },
  {
   "cell_type": "code",
   "execution_count": null,
   "id": "116a42f0",
   "metadata": {},
   "outputs": [],
   "source": [
    "import scipy"
   ]
  },
  {
   "cell_type": "code",
   "execution_count": null,
   "id": "07648d28",
   "metadata": {},
   "outputs": [],
   "source": [
    "def loss_function(params, data_in):\n",
    "    mu = params[0]\n",
    "    loss = 0\n",
    "    for i in range(len(data_in)):\n",
    "        loglikelihood = scipy.stats.poisson.logpmf(data_in[i], mu)\n",
    "        loss_to_add = -loglikelihood\n",
    "        loss += loss_to_add\n",
    "    return(loss)\n",
    "\n",
    "\n",
    "\n",
    "params0 = np.array([20])\n",
    "minimum = scipy.optimize.fmin(loss_function, params0, args=(leadtime,))\n",
    "mu_fit = minimum[0]\n",
    "print(\"mu_fit\")\n",
    "print(mu_fit)\n",
    "\n",
    "x = list(range(int(np.min(leadtime)), int(np.max(leadtime))+1))\n",
    "plt.hist(leadtime, density=True)\n",
    "plt.scatter(x, scipy.stats.poisson.pmf(x, mu_fit),color=\"red\")\n",
    "plt.xlabel(\"Number of Customers (per day)\")\n",
    "plt.ylabel(\"Probability\")\n",
    "plt.show()"
   ]
  },
  {
   "cell_type": "code",
   "execution_count": null,
   "id": "7348be26",
   "metadata": {},
   "outputs": [],
   "source": [
    "from scipy import stats\n"
   ]
  },
  {
   "cell_type": "code",
   "execution_count": null,
   "id": "37179a1b",
   "metadata": {},
   "outputs": [],
   "source": [
    "ks_statistic, p_value = stats.kstest(leadtime, 'poisson', args=(mu_fit,0))\n",
    "print(ks_statistic, p_value)"
   ]
  },
  {
   "cell_type": "code",
   "execution_count": null,
   "id": "c32ad521",
   "metadata": {},
   "outputs": [],
   "source": [
    "f_expected = ss.poisson.rvs(mu=mu_fit, size=len(leadtime))\n",
    "stats.chisquare(f_obs=leadtime, f_exp=f_expected)"
   ]
  },
  {
   "cell_type": "code",
   "execution_count": null,
   "id": "18bcf9ff",
   "metadata": {},
   "outputs": [],
   "source": [
    "len(leadtime)"
   ]
  },
  {
   "cell_type": "code",
   "execution_count": null,
   "id": "cba005eb",
   "metadata": {},
   "outputs": [],
   "source": [
    "leadtime[0]"
   ]
  },
  {
   "cell_type": "markdown",
   "id": "a8c47a27",
   "metadata": {},
   "source": [
    "#### Demand"
   ]
  },
  {
   "cell_type": "code",
   "execution_count": 43,
   "id": "8264cc2b",
   "metadata": {},
   "outputs": [],
   "source": [
    "demand = pd.read_csv(\"demand_data.csv\")"
   ]
  },
  {
   "cell_type": "code",
   "execution_count": 29,
   "id": "a60666ed",
   "metadata": {},
   "outputs": [
    {
     "data": {
      "text/plain": [
       "Demand    2140.446\n",
       "dtype: float64"
      ]
     },
     "execution_count": 29,
     "metadata": {},
     "output_type": "execute_result"
    }
   ],
   "source": [
    "demand.max()"
   ]
  },
  {
   "cell_type": "code",
   "execution_count": 30,
   "id": "ff8d26b2",
   "metadata": {},
   "outputs": [
    {
     "data": {
      "text/plain": [
       "(array([ 4., 10., 20., 13., 14., 22., 30., 33., 29., 13.]),\n",
       " array([ 187.    ,  382.3446,  577.6892,  773.0338,  968.3784, 1163.723 ,\n",
       "        1359.0676, 1554.4122, 1749.7568, 1945.1014, 2140.446 ]),\n",
       " <BarContainer object of 10 artists>)"
      ]
     },
     "execution_count": 30,
     "metadata": {},
     "output_type": "execute_result"
    },
    {
     "data": {
      "image/png": "[encoded data removed]",
      "text/plain": [
       "<Figure size 432x288 with 1 Axes>"
      ]
     },
     "metadata": {
      "needs_background": "light"
     },
     "output_type": "display_data"
    }
   ],
   "source": [
    "plt.hist(demand)"
   ]
  },
  {
   "cell_type": "code",
   "execution_count": 31,
   "id": "2cb2cd73",
   "metadata": {},
   "outputs": [
    {
     "name": "stdout",
     "output_type": "stream",
     "text": [
      "The maximum Likelyhood estimators for Normal Distribution are: mean is 1343.688 and std is 477.865\n",
      "The maximum Likelyhood estimators for Gamma Distribution are  {29.153, 275.49, -6691.808}\n",
      "The maximum Likelyhood estimators for Triangular Distribution are  {0.758, 2128.653, 100.836}\n",
      "The maximum Likelyhood estimators for Uniform Distribution are: mean is 187.0 and std is 1156.688\n"
     ]
    }
   ],
   "source": [
    "\n",
    "\n",
    "# Gamma Distribution\n",
    "x,y,z=ss.gamma.fit(demand.Demand)\n",
    "print(\"The maximum Likelyhood estimators for Gamma Distribution are \",\\\n",
    "      {round(x,3),round(y,3),round(z,3)})\n",
    "\n",
    "# Triangular Distribution\n",
    "a,b,c=ss.triang.fit(demand.Demand)\n",
    "print(\"The maximum Likelyhood estimators for Triangular Distribution are \",\\\n",
    "      {round(a,3),round(b,3),round(c,3)})\n",
    "\n",
    "# Exponrntial Distribution\n",
    "m,n =ss.expon.fit(demand.Demand)\n",
    "print(f\"The maximum Likelyhood estimators for Uniform Distribution are: mean is \\\n",
    "{round(m,3)} and std is {round(n,3)}\")\n",
    "\n",
    "\n",
    "\n",
    "\n",
    "# Normal Distribution\n",
    "u,s=ss.norm.fit(demand.Demand)\n",
    "print(f\"The maximum Likelyhood estimators for Normal Distribution are: mean is \\\n",
    "{round(u,3)} and std is {round(s,3)}\")"
   ]
  },
  {
   "cell_type": "code",
   "execution_count": 32,
   "id": "432bd39e",
   "metadata": {},
   "outputs": [
    {
     "data": {
      "image/png": "[encoded data removed]",
      "text/plain": [
       "<Figure size 720x1440 with 4 Axes>"
      ]
     },
     "metadata": {
      "needs_background": "light"
     },
     "output_type": "display_data"
    }
   ],
   "source": [
    "# Plotting Hypothesied Probable distributions over demand data\n",
    "fig, (ax1,ax2,ax3,ax4) = plt.subplots(4,1, figsize = (10,20))\n",
    "\n",
    "ax1.hist(demand.Demand,density=True,bins=10)\n",
    "x_seq = np.arange(100,3000,1)\n",
    "y_seq = ss.norm.pdf(x_seq,u,s)\n",
    "ax1.plot(x_seq, y_seq)\n",
    "ax1.title.set_text('Normal Dist')\n",
    "\n",
    "ax2.hist(demand.Demand,density=True,bins=10)\n",
    "x1_seq = np.arange(100,3000,1)\n",
    "y1_seq = ss.gamma.pdf(x1_seq,x,y,z)\n",
    "ax2.plot(x1_seq, y1_seq)\n",
    "ax2.title.set_text('Gamma Dist')\n",
    "\n",
    "ax3.hist(demand.Demand,density=True,bins=10)\n",
    "x2_seq = np.arange(100,3000,1)\n",
    "y2_seq = ss.triang.pdf(x2_seq,a,b,c)\n",
    "ax3.plot(x2_seq, y2_seq)\n",
    "ax3.title.set_text('Triangular Dist')\n",
    "\n",
    "ax4.hist(demand.Demand,density=True,bins=10)\n",
    "x3_seq = np.arange(100,3000,1)\n",
    "y3_seq = ss.expon.pdf(x1_seq,m,n)\n",
    "ax4.plot(x3_seq, y3_seq)\n",
    "ax4.title.set_text('Exponential Dist')"
   ]
  },
  {
   "cell_type": "markdown",
   "id": "541c3f30",
   "metadata": {},
   "source": [
    "demand"
   ]
  },
  {
   "cell_type": "code",
   "execution_count": 33,
   "id": "82d93378",
   "metadata": {},
   "outputs": [
    {
     "data": {
      "image/png": "[encoded data removed]",
      "text/plain": [
       "<Figure size 720x1440 with 4 Axes>"
      ]
     },
     "metadata": {
      "needs_background": "light"
     },
     "output_type": "display_data"
    }
   ],
   "source": [
    "\n",
    "fig, (ax1,ax2,ax3,ax4) = plt.subplots(4,1, figsize = (10,20))\n",
    "\n",
    "# Normal Distributions\n",
    "normal_estimate = ss.norm(u, s)\n",
    "# Compute the theoretical q-quantiles for q = (i-.5)/n for i = 1, ..., n\n",
    "normal_quantile = normal_estimate.ppf((np.arange(1,len(demand.Demand)+1)-0.5)/len(demand.Demand))\n",
    "# Sort the sample data in ascending order\n",
    "demand.Demand = np.sort(demand.Demand)\n",
    "ax1.scatter(demand.Demand, normal_quantile)\n",
    "ax1.set_xlabel('Observed values')\n",
    "ax1.set_ylabel('Theoretical quantiles')\n",
    "ax1.set_title('Quantile-Quantile Plot - Normal Dist')\n",
    "ax1.plot([100,3000], [100,3000], color='red')\n",
    "\n",
    "# Gamma Distributions\n",
    "gamma_estimate = ss.gamma(x,y,z)\n",
    "# Compute the theoretical q-quantiles for q = (i-.5)/n for i = 1, ..., n\n",
    "gamma_quantile = gamma_estimate.ppf((np.arange(1,len(demand.Demand)+1)-0.5)/len(demand.Demand))\n",
    "# Sort the sample data in ascending order\n",
    "demand.Demand = np.sort(demand.Demand)\n",
    "ax2.scatter(demand.Demand, gamma_quantile)\n",
    "ax2.set_xlabel('Observed values')\n",
    "ax2.set_ylabel('Theoretical quantiles')\n",
    "ax2.set_title('Quantile-Quantile Plot - Gamma dist')\n",
    "ax2.plot([100,3000], [100,3000], color='red')\n",
    "\n",
    "# Triangular Distributions\n",
    "tri_estimate = ss.triang(a,b,c)\n",
    "# Compute the theoretical q-quantiles for q = (i-.5)/n for i = 1, ..., n\n",
    "tri_quantile = tri_estimate.ppf((np.arange(1,len(demand.Demand)+1)-0.5)/len(demand.Demand))\n",
    "# Sort the sample data in ascending order\n",
    "demand.Demand = np.sort(demand.Demand)\n",
    "ax3.scatter(demand.Demand, tri_quantile)\n",
    "ax3.set_xlabel('Observed values')\n",
    "ax3.set_ylabel('Theoretical quantiles')\n",
    "ax3.set_title('Quantile-Quantile Plot - Triangular dist')\n",
    "ax3.plot([100,3000], [100,3000], color='red')\n",
    "\n",
    "# Exponential Distributions\n",
    "expon_estimate = ss.expon(m,n)\n",
    "# Compute the theoretical q-quantiles for q = (i-.5)/n for i = 1, ..., n\n",
    "expon_quantile = expon_estimate.ppf((np.arange(1,len(demand.Demand)+1)-0.5)/len(demand.Demand))\n",
    "# Sort the sample data in ascending order\n",
    "demand.Demand = np.sort(demand.Demand)\n",
    "ax4.scatter(demand.Demand, expon_quantile)\n",
    "ax4.set_xlabel('Observed values')\n",
    "ax4.set_ylabel('Theoretical quantiles')\n",
    "ax4.set_title('Quantile-Quantile Plot - Exponential Dist')\n",
    "ax4.plot([100,3000], [100,3000], color='red')\n",
    "plt.show()"
   ]
  },
  {
   "cell_type": "code",
   "execution_count": 43,
   "id": "81bf5fa5",
   "metadata": {},
   "outputs": [
    {
     "name": "stdout",
     "output_type": "stream",
     "text": [
      "The p-value for the K-S test for normal distribution is 0.0956.\n",
      "The statistics for the K-S test for normal distribution is 0.089.\n"
     ]
    }
   ],
   "source": [
    "#Performimng K-S test to check if its normal Distribution or not\n",
    "u,s= ss.norm.fit(demand.Demand)\n",
    "normal_estimate = ss.norm(u,s)\n",
    "statistics, pvalue = ss.kstest(rvs = demand.Demand, cdf = normal_estimate.cdf)\n",
    "print(f\"The p-value for the K-S test for normal distribution is {round(pvalue, 4)}.\")\n",
    "print(f\"The statistics for the K-S test for normal distribution is {round(statistics, 4)}.\")"
   ]
  },
  {
   "cell_type": "code",
   "execution_count": null,
   "id": "4fba2684",
   "metadata": {},
   "outputs": [],
   "source": []
  },
  {
   "cell_type": "code",
   "execution_count": 44,
   "id": "bda0c620",
   "metadata": {},
   "outputs": [
    {
     "name": "stdout",
     "output_type": "stream",
     "text": [
      "The p-value for the K-S test was for gamma distribution is 0.0491.\n"
     ]
    }
   ],
   "source": [
    "u,s,m= ss.gamma.fit(demand.Demand)\n",
    "gamma_estimate = ss.gamma(u,s,m)\n",
    "statistics, pvalue = ss.kstest(rvs =demand.Demand, cdf = gamma_estimate.cdf)\n",
    "print(f\"The p-value for the K-S test was for gamma distribution is {round(pvalue, 4)}.\")"
   ]
  },
  {
   "cell_type": "code",
   "execution_count": 40,
   "id": "8e51e616",
   "metadata": {},
   "outputs": [
    {
     "name": "stdout",
     "output_type": "stream",
     "text": [
      "The p-value for the K-S test was for triangular Distribution is  0.4491.\n"
     ]
    }
   ],
   "source": [
    "u,s,m= ss.triang.fit(demand.Demand)\n",
    "triang_estimate = ss.triang(u,s,m)\n",
    "statistics, pvalue = ss.kstest(rvs = demand.Demand, cdf = triang_estimate.cdf)\n",
    "print(f\"The p-value for the K-S test was for triangular Distribution is  {round(pvalue, 4)}.\")"
   ]
  },
  {
   "cell_type": "raw",
   "id": "89d5ac6e",
   "metadata": {},
   "source": []
  },
  {
   "cell_type": "markdown",
   "id": "f7ab2933",
   "metadata": {},
   "source": [
    "ks_norm_a = ss.ks_1samp(x = ss.standardize(demand.Demand), cdf = stats.norm.cdf)"
   ]
  },
  {
   "cell_type": "code",
   "execution_count": 41,
   "id": "2b524f24",
   "metadata": {},
   "outputs": [
    {
     "name": "stdout",
     "output_type": "stream",
     "text": [
      "The p-value for the K-S test was for Exponrential Distribution is 0.0.\n"
     ]
    }
   ],
   "source": [
    "u,s= ss.expon.fit(demand.Demand)\n",
    "expon_estimate = ss.expon(u,s)\n",
    "statistics, pvalue = ss.kstest(rvs = demand.Demand, cdf = expon_estimate.cdf)\n",
    "print(f\"The p-value for the K-S test was for Exponrential Distribution is {round(pvalue, 4)}.\")"
   ]
  },
  {
   "cell_type": "code",
   "execution_count": 80,
   "id": "4f4b5e9e",
   "metadata": {},
   "outputs": [],
   "source": [
    "from scipy.stats import exponweib"
   ]
  },
  {
   "cell_type": "code",
   "execution_count": 123,
   "id": "3a65d18f",
   "metadata": {},
   "outputs": [],
   "source": [
    "from scipy.stats import weibull_max"
   ]
  },
  {
   "cell_type": "code",
   "execution_count": 124,
   "id": "a578a739",
   "metadata": {},
   "outputs": [
    {
     "data": {
      "text/plain": [
       "228354.958225"
      ]
     },
     "execution_count": 124,
     "metadata": {},
     "output_type": "execute_result"
    }
   ],
   "source": [
    "477.865*477.865"
   ]
  },
  {
   "cell_type": "code",
   "execution_count": 125,
   "id": "06d491c1",
   "metadata": {},
   "outputs": [
    {
     "name": "stdout",
     "output_type": "stream",
     "text": [
      "865.8235537092896 477.86451650347567\n"
     ]
    }
   ],
   "source": [
    "(loc, scale) = ss.exponweib.fit_loc_scale(demand.Demand, 1, 1)\n",
    "print(loc, scale)"
   ]
  },
  {
   "cell_type": "code",
   "execution_count": 126,
   "id": "7e503c9c",
   "metadata": {},
   "outputs": [
    {
     "name": "stdout",
     "output_type": "stream",
     "text": [
      "1343.688070212766 477.8645165034743\n"
     ]
    }
   ],
   "source": [
    "(loc, scale) = weibull_max.fit_loc_scale(demand.Demand, 1, 1)\n",
    "print(loc, scale)"
   ]
  },
  {
   "cell_type": "code",
   "execution_count": 127,
   "id": "ab94896b",
   "metadata": {},
   "outputs": [],
   "source": [
    "weibull_rvs=exponweib.rvs(865.8235537092896,477.86451650347567,size=len(demand.Demand))"
   ]
  },
  {
   "cell_type": "code",
   "execution_count": 145,
   "id": "25368bd0",
   "metadata": {},
   "outputs": [],
   "source": [
    "weibull_r=weibull_max.rvs(1343.688070212766,477.8645165034743,size=len(demand.Demand))"
   ]
  },
  {
   "cell_type": "code",
   "execution_count": 146,
   "id": "4eb34e32",
   "metadata": {},
   "outputs": [],
   "source": [
    "from scipy.stats import t\n",
    "rv = t(len(demand.Demand)-2)"
   ]
  },
  {
   "cell_type": "code",
   "execution_count": 147,
   "id": "fe7c326f",
   "metadata": {},
   "outputs": [
    {
     "data": {
      "text/plain": [
       "array([1.00383561, 1.00454209, 1.00423533, 1.00401083, 1.0042575 ,\n",
       "       1.00389148, 1.00475895, 1.00443165, 1.00453436, 1.00411372,\n",
       "       1.00395151, 1.00353975, 1.00392797, 1.00402626, 1.00439983,\n",
       "       1.00363628, 1.00440359, 1.00405621, 1.00413683, 1.0039491 ,\n",
       "       1.0048375 , 1.00366943, 1.00452924, 1.00469143, 1.00500526,\n",
       "       1.00418504, 1.00396934, 1.00373908, 1.003726  , 1.00425491,\n",
       "       1.00382501, 1.00430887, 1.00438315, 1.00415095, 1.0042352 ,\n",
       "       1.0039799 , 1.00417443, 1.00394867, 1.00415961, 1.00434291,\n",
       "       1.00482433, 1.00347676, 1.00407739, 1.00420264, 1.00396173,\n",
       "       1.00395315, 1.00420168, 1.00401983, 1.00420239, 1.00472839,\n",
       "       1.00416852, 1.00447691, 1.00419679, 1.00412014, 1.00380258,\n",
       "       1.00416663, 1.00438349, 1.00435187, 1.00365287, 1.00410815,\n",
       "       1.00430763, 1.00388252, 1.00434889, 1.00484324, 1.00374058,\n",
       "       1.004735  , 1.00401377, 1.00419304, 1.00427682, 1.00412186,\n",
       "       1.00440837, 1.00413757, 1.00393478, 1.00393764, 1.00458939,\n",
       "       1.00375994, 1.0042834 , 1.00429357, 1.00384583, 1.00460798,\n",
       "       1.00515281, 1.00392509, 1.0041762 , 1.00365263, 1.00522665,\n",
       "       1.00380043, 1.00380606, 1.00405239, 1.0043481 , 1.00421561,\n",
       "       1.00401984, 1.00378896, 1.00379008, 1.00402341, 1.00463223,\n",
       "       1.00427649, 1.00377286, 1.00409977, 1.00432292, 1.00445658,\n",
       "       1.00449775, 1.00392992, 1.00421373, 1.00445064, 1.00499785,\n",
       "       1.00346199, 1.00434316, 1.00437814, 1.00364441, 1.00406318,\n",
       "       1.00428886, 1.00367723, 1.00421876, 1.00387441, 1.00408935,\n",
       "       1.00363369, 1.0034198 , 1.00423536, 1.00489563, 1.00423801,\n",
       "       1.00419075, 1.00384233, 1.0052088 , 1.0043112 , 1.0043643 ,\n",
       "       1.00330496, 1.00422053, 1.00466537, 1.00426246, 1.00437843,\n",
       "       1.00453392, 1.00380842, 1.00400362, 1.00433088, 1.00413701,\n",
       "       1.00455852, 1.00365255, 1.00341658, 1.00390571, 1.00375869,\n",
       "       1.00422302, 1.00414862, 1.00429976, 1.00381473, 1.00406105,\n",
       "       1.004654  , 1.0039373 , 1.00473689, 1.00427031, 1.00386797,\n",
       "       1.00463432, 1.00413245, 1.00399718, 1.00422261, 1.00474967,\n",
       "       1.00437297, 1.00386493, 1.00409762, 1.00426331, 1.00459925,\n",
       "       1.00420433, 1.00515324, 1.00398629, 1.00389673, 1.00441594,\n",
       "       1.00500745, 1.00403249, 1.00437461, 1.00453133, 1.00453588,\n",
       "       1.00417007, 1.00441611, 1.00395778, 1.00426091, 1.0036851 ,\n",
       "       1.00393779, 1.00419647, 1.00498629, 1.00401983, 1.00375374,\n",
       "       1.003568  , 1.00438083, 1.00463954, 1.00400657, 1.00473374,\n",
       "       1.00428213, 1.00453471, 1.00418162])"
      ]
     },
     "execution_count": 147,
     "metadata": {},
     "output_type": "execute_result"
    }
   ],
   "source": [
    "weibull_rvs"
   ]
  },
  {
   "cell_type": "code",
   "execution_count": 148,
   "id": "ddba2a9d",
   "metadata": {},
   "outputs": [],
   "source": [
    "from scipy.stats import ttest_ind\n",
    "t_stat, p_value = ttest_ind(weibull_r,demand.Demand)"
   ]
  },
  {
   "cell_type": "code",
   "execution_count": 149,
   "id": "2e722b48",
   "metadata": {},
   "outputs": [
    {
     "data": {
      "text/plain": [
       "5.218745394107994e-81"
      ]
     },
     "execution_count": 149,
     "metadata": {},
     "output_type": "execute_result"
    }
   ],
   "source": [
    "p_value"
   ]
  },
  {
   "cell_type": "code",
   "execution_count": 150,
   "id": "f08fd5cb",
   "metadata": {},
   "outputs": [],
   "source": [
    "from scipy.stats import norm"
   ]
  },
  {
   "cell_type": "code",
   "execution_count": 151,
   "id": "14813870",
   "metadata": {},
   "outputs": [
    {
     "name": "stdout",
     "output_type": "stream",
     "text": [
      "865.8235537092917 477.8645165034743\n"
     ]
    }
   ],
   "source": [
    "(m, s) = ss.norm.fit_loc_scale(demand.Demand, 1, 1)\n",
    "print(m, s)"
   ]
  },
  {
   "cell_type": "code",
   "execution_count": 160,
   "id": "e7f0bdb1",
   "metadata": {},
   "outputs": [],
   "source": [
    "normal_rvs=norm.rvs(865.8235537092917,477.8645165034743*477.8645165034743,size=len(demand.Demand))"
   ]
  },
  {
   "cell_type": "code",
   "execution_count": 161,
   "id": "da23d502",
   "metadata": {},
   "outputs": [],
   "source": [
    "from scipy.stats import ttest_ind\n",
    "t_stat, p_value = ttest_ind(normal_rvs,demand.Demand)"
   ]
  },
  {
   "cell_type": "code",
   "execution_count": 162,
   "id": "5fe690a8",
   "metadata": {},
   "outputs": [
    {
     "data": {
      "text/plain": [
       "0.9829435038460287"
      ]
     },
     "execution_count": 162,
     "metadata": {},
     "output_type": "execute_result"
    }
   ],
   "source": [
    "p_value"
   ]
  },
  {
   "cell_type": "code",
   "execution_count": 163,
   "id": "be830a3b",
   "metadata": {},
   "outputs": [],
   "source": [
    "from scipy.stats import kstest"
   ]
  },
  {
   "cell_type": "code",
   "execution_count": 166,
   "id": "f0a256f1",
   "metadata": {},
   "outputs": [],
   "source": [
    "t_stat, p_value = kstest(demand.Demand,normal_rvs)"
   ]
  },
  {
   "cell_type": "code",
   "execution_count": 167,
   "id": "2178cab5",
   "metadata": {},
   "outputs": [
    {
     "data": {
      "text/plain": [
       "1.005670165027348e-21"
      ]
     },
     "execution_count": 167,
     "metadata": {},
     "output_type": "execute_result"
    }
   ],
   "source": [
    "p_value"
   ]
  },
  {
   "cell_type": "code",
   "execution_count": null,
   "id": "6a1e9081",
   "metadata": {},
   "outputs": [],
   "source": []
  }
 ],
 "metadata": {
  "kernelspec": {
   "display_name": "Python 3 (ipykernel)",
   "language": "python",
   "name": "python3"
  },
  "language_info": {
   "codemirror_mode": {
    "name": "ipython",
    "version": 3
   },
   "file_extension": ".py",
   "mimetype": "text/x-python",
   "name": "python",
   "nbconvert_exporter": "python",
   "pygments_lexer": "ipython3",
   "version": "3.9.13"
  }
 },
 "nbformat": 4,
 "nbformat_minor": 5
}
